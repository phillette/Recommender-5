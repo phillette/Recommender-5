{
 "cells": [
  {
   "cell_type": "code",
   "execution_count": 1,
   "metadata": {
    "collapsed": true
   },
   "outputs": [],
   "source": [
    "import pandas as pd\n",
    "import numpy as np\n",
    "import matplotlib.pyplot as plt\n",
    "import copy\n",
    "import seaborn as sns\n",
    "import sklearn.linear_model as sk_lm\n",
    "from sklearn.preprocessing import scale\n",
    "import sklearn.linear_model as skl_lm\n",
    "from sklearn.metrics import confusion_matrix, classification_report, precision_score\n",
    "import random\n",
    "from sklearn.utils import shuffle\n",
    "from sklearn.model_selection  import train_test_split\n",
    "import os\n",
    "import glob\n",
    "#import \n",
    "%matplotlib inline"
   ]
  },
  {
   "cell_type": "markdown",
   "metadata": {},
   "source": [
    "Source: https://www.kaggle.com/grouplens/movielens-20m-dataset/version/2\n",
    "\n",
    "\n",
    "Context\n",
    "\n",
    "The datasets describe ratings and free-text tagging activities from MovieLens, a movie recommendation service. It contains 20000263 ratings and 465564 tag applications across 27278 movies. These data were created by 138493 users between January 09, 1995 and March 31, 2015. This dataset was generated on October 17, 2016.\n",
    "\n",
    "Users were selected at random for inclusion. All selected users had rated at least 20 movies.\n",
    "Content\n",
    "\n",
    "No demographic information is included. Each user is represented by an id, and no other information is provided.\n",
    "\n",
    "The data are contained in six files.\n",
    "\n",
    "tag.csv that contains tags applied to movies by users:\n",
    "\n",
    "    userId\n",
    "\n",
    "    movieId\n",
    "\n",
    "    tag\n",
    "\n",
    "    timestamp\n",
    "\n",
    "rating.csv that contains ratings of movies by users:\n",
    "\n",
    "    userId\n",
    "\n",
    "    movieId\n",
    "\n",
    "    rating\n",
    "\n",
    "    timestamp\n",
    "\n",
    "movie.csv that contains movie information:\n",
    "\n",
    "    movieId\n",
    "\n",
    "    title\n",
    "\n",
    "    genres\n",
    "\n",
    "link.csv that contains identifiers that can be used to link to other sources:\n",
    "\n",
    "    movieId\n",
    "\n",
    "    imdbId\n",
    "\n",
    "    tmbdId\n",
    "\n",
    "genome_scores.csv that contains movie-tag relevance data:\n",
    "\n",
    "    movieId\n",
    "\n",
    "    tagId\n",
    "\n",
    "    relevance\n",
    "\n",
    "genome_tags.csv that contains tag descriptions:\n",
    "\n",
    "    tagId\n",
    "\n",
    "    tag\n",
    "\n",
    "Acknowledgements\n",
    "\n",
    "The original datasets can be found here. To acknowledge use of the dataset in publications, please cite the following paper:\n",
    "\n",
    "F. Maxwell Harper and Joseph A. Konstan. 2015. The MovieLens Datasets: History and Context. ACM Transactions on Interactive Intelligent Systems (TiiS) 5, 4, Article 19 (December 2015), 19 pages. DOI=http://dx.doi.org/10.1145/2827872\n",
    "Inspiration\n",
    "\n",
    "Some ideas worth exploring:\n",
    "\n",
    "    Which genres receive the highest ratings? How does this change over time?\n",
    "\n",
    "    Determine the temporal trends in the genres/tagging activity of the movies released\n"
   ]
  },
  {
   "cell_type": "code",
   "execution_count": 2,
   "metadata": {},
   "outputs": [
    {
     "data": {
      "text/plain": [
       "['/media/radial/Work/Work/Work on datasets/movielens-20m-dataset*/genome_scores.csv',\n",
       " '/media/radial/Work/Work/Work on datasets/movielens-20m-dataset*/genome_tags.csv',\n",
       " '/media/radial/Work/Work/Work on datasets/movielens-20m-dataset*/link.csv',\n",
       " '/media/radial/Work/Work/Work on datasets/movielens-20m-dataset*/movie.csv',\n",
       " '/media/radial/Work/Work/Work on datasets/movielens-20m-dataset*/rating.csv',\n",
       " '/media/radial/Work/Work/Work on datasets/movielens-20m-dataset*/tag.csv']"
      ]
     },
     "execution_count": 2,
     "metadata": {},
     "output_type": "execute_result"
    }
   ],
   "source": [
    "x = glob.glob(\"/media/radial/Work/Work/Work on datasets/movielens-20m-dataset*/*.csv\")\n",
    "x"
   ]
  },
  {
   "cell_type": "code",
   "execution_count": 3,
   "metadata": {},
   "outputs": [
    {
     "data": {
      "text/plain": [
       "['genome_scores', 'genome_tags', 'link', 'movie', 'rating', 'tag']"
      ]
     },
     "execution_count": 3,
     "metadata": {},
     "output_type": "execute_result"
    }
   ],
   "source": [
    "y=[]\n",
    "for i in x:\n",
    "    y.append(i.strip(\"/media/radial/Work/Work/Work on datasets/movielens-20m-dataset\").strip(\".c\"))\n",
    "y = [x[2:] for x in y]\n",
    "y"
   ]
  },
  {
   "cell_type": "code",
   "execution_count": 4,
   "metadata": {
    "collapsed": true
   },
   "outputs": [],
   "source": [
    "genome_scores = pd.read_csv(x[0])\n",
    "genome_tags = pd.read_csv(x[1])\n",
    "link = pd.read_csv(x[2])\n",
    "movie = pd.read_csv(x[3])\n",
    "rating = pd.read_csv(x[4])\n",
    "tag = pd.read_csv(x[5])"
   ]
  },
  {
   "cell_type": "code",
   "execution_count": 10,
   "metadata": {},
   "outputs": [
    {
     "name": "stdout",
     "output_type": "stream",
     "text": [
      "genome_scores............................................................................................\n",
      "   movieId  tagId  relevance\n",
      "0        1      1    0.02500\n",
      "1        1      2    0.02500\n",
      "2        1      3    0.05775\n",
      "3        1      4    0.09675\n",
      "4        1      5    0.14675\n",
      "genome_tags............................................................................................\n",
      "   tagId           tag\n",
      "0      1           007\n",
      "1      2  007 (series)\n",
      "2      3  18th century\n",
      "3      4         1920s\n",
      "4      5         1930s\n",
      "link............................................................................................\n",
      "   movieId  imdbId   tmdbId\n",
      "0        1  114709    862.0\n",
      "1        2  113497   8844.0\n",
      "2        3  113228  15602.0\n",
      "3        4  114885  31357.0\n",
      "4        5  113041  11862.0\n",
      "movie............................................................................................\n",
      "   movieId                               title  \\\n",
      "0        1                    Toy Story (1995)   \n",
      "1        2                      Jumanji (1995)   \n",
      "2        3             Grumpier Old Men (1995)   \n",
      "3        4            Waiting to Exhale (1995)   \n",
      "4        5  Father of the Bride Part II (1995)   \n",
      "\n",
      "                                        genres  \n",
      "0  Adventure|Animation|Children|Comedy|Fantasy  \n",
      "1                   Adventure|Children|Fantasy  \n",
      "2                               Comedy|Romance  \n",
      "3                         Comedy|Drama|Romance  \n",
      "4                                       Comedy  \n",
      "rating............................................................................................\n",
      "   userId  movieId  rating            timestamp\n",
      "0       1        2     3.5  2005-04-02 23:53:47\n",
      "1       1       29     3.5  2005-04-02 23:31:16\n",
      "2       1       32     3.5  2005-04-02 23:33:39\n",
      "3       1       47     3.5  2005-04-02 23:32:07\n",
      "4       1       50     3.5  2005-04-02 23:29:40\n",
      "tag............................................................................................\n",
      "   userId  movieId            tag            timestamp\n",
      "0      18     4141    Mark Waters  2009-04-24 18:19:40\n",
      "1      65      208      dark hero  2013-05-10 01:41:18\n",
      "2      65      353      dark hero  2013-05-10 01:41:19\n",
      "3      65      521  noir thriller  2013-05-10 01:39:43\n",
      "4      65      592      dark hero  2013-05-10 01:41:18\n"
     ]
    }
   ],
   "source": [
    "print(\"genome_scores............................................................................................\")\n",
    "print(genome_scores.head())\n",
    "print(\"genome_tags............................................................................................\")\n",
    "print(genome_tags.head())\n",
    "print(\"link............................................................................................\")\n",
    "print(link.head())\n",
    "print(\"movie............................................................................................\")\n",
    "print(movie.head())\n",
    "print(\"rating............................................................................................\")\n",
    "print(rating.head())\n",
    "print(\"tag............................................................................................\")\n",
    "print(tag.head())"
   ]
  },
  {
   "cell_type": "code",
   "execution_count": 15,
   "metadata": {},
   "outputs": [
    {
     "data": {
      "text/html": [
       "<div>\n",
       "<table border=\"1\" class=\"dataframe\">\n",
       "  <thead>\n",
       "    <tr style=\"text-align: right;\">\n",
       "      <th></th>\n",
       "      <th>movieId</th>\n",
       "      <th>tagId</th>\n",
       "      <th>relevance</th>\n",
       "      <th>title</th>\n",
       "      <th>genres</th>\n",
       "    </tr>\n",
       "  </thead>\n",
       "  <tbody>\n",
       "    <tr>\n",
       "      <th>0</th>\n",
       "      <td>1</td>\n",
       "      <td>1</td>\n",
       "      <td>0.02500</td>\n",
       "      <td>Toy Story (1995)</td>\n",
       "      <td>Adventure|Animation|Children|Comedy|Fantasy</td>\n",
       "    </tr>\n",
       "    <tr>\n",
       "      <th>1</th>\n",
       "      <td>1</td>\n",
       "      <td>2</td>\n",
       "      <td>0.02500</td>\n",
       "      <td>Toy Story (1995)</td>\n",
       "      <td>Adventure|Animation|Children|Comedy|Fantasy</td>\n",
       "    </tr>\n",
       "    <tr>\n",
       "      <th>2</th>\n",
       "      <td>1</td>\n",
       "      <td>3</td>\n",
       "      <td>0.05775</td>\n",
       "      <td>Toy Story (1995)</td>\n",
       "      <td>Adventure|Animation|Children|Comedy|Fantasy</td>\n",
       "    </tr>\n",
       "    <tr>\n",
       "      <th>3</th>\n",
       "      <td>1</td>\n",
       "      <td>4</td>\n",
       "      <td>0.09675</td>\n",
       "      <td>Toy Story (1995)</td>\n",
       "      <td>Adventure|Animation|Children|Comedy|Fantasy</td>\n",
       "    </tr>\n",
       "    <tr>\n",
       "      <th>4</th>\n",
       "      <td>1</td>\n",
       "      <td>5</td>\n",
       "      <td>0.14675</td>\n",
       "      <td>Toy Story (1995)</td>\n",
       "      <td>Adventure|Animation|Children|Comedy|Fantasy</td>\n",
       "    </tr>\n",
       "  </tbody>\n",
       "</table>\n",
       "</div>"
      ],
      "text/plain": [
       "   movieId  tagId  relevance             title  \\\n",
       "0        1      1    0.02500  Toy Story (1995)   \n",
       "1        1      2    0.02500  Toy Story (1995)   \n",
       "2        1      3    0.05775  Toy Story (1995)   \n",
       "3        1      4    0.09675  Toy Story (1995)   \n",
       "4        1      5    0.14675  Toy Story (1995)   \n",
       "\n",
       "                                        genres  \n",
       "0  Adventure|Animation|Children|Comedy|Fantasy  \n",
       "1  Adventure|Animation|Children|Comedy|Fantasy  \n",
       "2  Adventure|Animation|Children|Comedy|Fantasy  \n",
       "3  Adventure|Animation|Children|Comedy|Fantasy  \n",
       "4  Adventure|Animation|Children|Comedy|Fantasy  "
      ]
     },
     "execution_count": 15,
     "metadata": {},
     "output_type": "execute_result"
    }
   ],
   "source": [
    "one = pd.merge(genome_scores,movie,on = [\"movieId\"])\n",
    "one.head()"
   ]
  },
  {
   "cell_type": "code",
   "execution_count": 18,
   "metadata": {},
   "outputs": [
    {
     "data": {
      "text/plain": [
       "(11709768, 5)"
      ]
     },
     "execution_count": 18,
     "metadata": {},
     "output_type": "execute_result"
    }
   ],
   "source": [
    "one.shape"
   ]
  },
  {
   "cell_type": "code",
   "execution_count": 91,
   "metadata": {},
   "outputs": [],
   "source": [
    "yr = [i.strip(\")\").strip('\"').strip(\"(\").strip(\" \")[-5:] for i in one.title]"
   ]
  },
  {
   "cell_type": "code",
   "execution_count": 92,
   "metadata": {},
   "outputs": [
    {
     "data": {
      "text/plain": [
       "defaultdict(int,\n",
       "            {'1902': 1128,\n",
       "             '1915': 1128,\n",
       "             '1916': 1128,\n",
       "             '1917': 1128,\n",
       "             '1918': 1128,\n",
       "             '1919': 2256,\n",
       "             '1920': 2256,\n",
       "             '1921': 1128,\n",
       "             '1922': 3384,\n",
       "             '1923': 5640,\n",
       "             '1924': 5640,\n",
       "             '1925': 10152,\n",
       "             '1926': 5640,\n",
       "             '1927': 10152,\n",
       "             '1928': 6768,\n",
       "             '1929': 6768,\n",
       "             '1930': 6768,\n",
       "             '1931': 15792,\n",
       "             '1932': 14664,\n",
       "             '1933': 18048,\n",
       "             '1934': 14664,\n",
       "             '1935': 11280,\n",
       "             '1936': 20304,\n",
       "             '1937': 23688,\n",
       "             '1938': 18048,\n",
       "             '1939': 38352,\n",
       "             '1940': 33840,\n",
       "             '1941': 22560,\n",
       "             '1942': 28200,\n",
       "             '1943': 23688,\n",
       "             '1944': 25944,\n",
       "             '1945': 25944,\n",
       "             '1946': 28200,\n",
       "             '1947': 32712,\n",
       "             '1948': 37224,\n",
       "             '1949': 30456,\n",
       "             '1950': 29328,\n",
       "             '1951': 29328,\n",
       "             '1952': 29328,\n",
       "             '1953': 46248,\n",
       "             '1954': 39480,\n",
       "             '1955': 56400,\n",
       "             '1956': 45120,\n",
       "             '1957': 47376,\n",
       "             '1958': 42864,\n",
       "             '1959': 54144,\n",
       "             '1960': 58656,\n",
       "             '1961': 40608,\n",
       "             '1962': 53016,\n",
       "             '1963': 50760,\n",
       "             '1964': 62040,\n",
       "             '1965': 59784,\n",
       "             '1966': 65424,\n",
       "             '1967': 57528,\n",
       "             '1968': 56400,\n",
       "             '1969': 48504,\n",
       "             '1970': 62040,\n",
       "             '1971': 68808,\n",
       "             '1972': 73320,\n",
       "             '1973': 68808,\n",
       "             '1974': 62040,\n",
       "             '1975': 60912,\n",
       "             '1976': 67680,\n",
       "             '1977': 78960,\n",
       "             '1978': 76704,\n",
       "             '1979': 81216,\n",
       "             '1980': 139872,\n",
       "             '1981': 143256,\n",
       "             '1982': 131976,\n",
       "             '1983': 111672,\n",
       "             '1984': 133104,\n",
       "             '1985': 151152,\n",
       "             '1986': 166944,\n",
       "             '1987': 205296,\n",
       "             '1988': 215448,\n",
       "             '1989': 214320,\n",
       "             '1990': 194016,\n",
       "             '1991': 182736,\n",
       "             '1992': 201912,\n",
       "             '1993': 245904,\n",
       "             '1994': 310200,\n",
       "             '1995': 344040,\n",
       "             '1996': 363216,\n",
       "             '1997': 360960,\n",
       "             '1998': 357576,\n",
       "             '1999': 329376,\n",
       "             '2000': 373368,\n",
       "             '2001': 355320,\n",
       "             '2002': 372240,\n",
       "             '2003': 342912,\n",
       "             '2004': 341784,\n",
       "             '2005': 320352,\n",
       "             '2006': 353064,\n",
       "             '2007': 346296,\n",
       "             '2008': 351936,\n",
       "             '2009': 358704,\n",
       "             '2010': 296664,\n",
       "             '2011': 266208,\n",
       "             '2012': 261696,\n",
       "             '2013': 307944,\n",
       "             '2014': 286512,\n",
       "             '2015': 62040,\n",
       "             'lon 5': 1128})"
      ]
     },
     "execution_count": 92,
     "metadata": {},
     "output_type": "execute_result"
    }
   ],
   "source": [
    "yr = [i.strip(\")\").strip(\"(\")for i in yr]\n",
    "from collections import defaultdict\n",
    "word_counts = defaultdict(int)\n",
    "for word in yr:\n",
    "    word_counts[word] += 1\n",
    "word_counts"
   ]
  },
  {
   "cell_type": "code",
   "execution_count": 93,
   "metadata": {},
   "outputs": [
    {
     "data": {
      "text/plain": [
       "defaultdict(int, {'Babylon 5': 1128})"
      ]
     },
     "execution_count": 93,
     "metadata": {},
     "output_type": "execute_result"
    }
   ],
   "source": [
    "odd = [i for i in one.title if (\"lon 5\") in i[-10:]]\n",
    "word_counts = defaultdict(int)\n",
    "for word in odd:\n",
    "    word_counts[word] += 1\n",
    "word_counts"
   ]
  },
  {
   "cell_type": "code",
   "execution_count": 95,
   "metadata": {
    "scrolled": true
   },
   "outputs": [
    {
     "data": {
      "text/plain": [
       "defaultdict(int,\n",
       "            {'1902': 1128,\n",
       "             '1915': 1128,\n",
       "             '1916': 1128,\n",
       "             '1917': 1128,\n",
       "             '1918': 1128,\n",
       "             '1919': 2256,\n",
       "             '1920': 2256,\n",
       "             '1921': 1128,\n",
       "             '1922': 3384,\n",
       "             '1923': 5640,\n",
       "             '1924': 5640,\n",
       "             '1925': 10152,\n",
       "             '1926': 5640,\n",
       "             '1927': 10152,\n",
       "             '1928': 6768,\n",
       "             '1929': 6768,\n",
       "             '1930': 6768,\n",
       "             '1931': 15792,\n",
       "             '1932': 14664,\n",
       "             '1933': 18048,\n",
       "             '1934': 14664,\n",
       "             '1935': 11280,\n",
       "             '1936': 20304,\n",
       "             '1937': 23688,\n",
       "             '1938': 18048,\n",
       "             '1939': 38352,\n",
       "             '1940': 33840,\n",
       "             '1941': 22560,\n",
       "             '1942': 28200,\n",
       "             '1943': 23688,\n",
       "             '1944': 25944,\n",
       "             '1945': 25944,\n",
       "             '1946': 28200,\n",
       "             '1947': 32712,\n",
       "             '1948': 37224,\n",
       "             '1949': 30456,\n",
       "             '1950': 29328,\n",
       "             '1951': 29328,\n",
       "             '1952': 29328,\n",
       "             '1953': 46248,\n",
       "             '1954': 39480,\n",
       "             '1955': 56400,\n",
       "             '1956': 45120,\n",
       "             '1957': 47376,\n",
       "             '1958': 42864,\n",
       "             '1959': 54144,\n",
       "             '1960': 58656,\n",
       "             '1961': 40608,\n",
       "             '1962': 53016,\n",
       "             '1963': 50760,\n",
       "             '1964': 62040,\n",
       "             '1965': 59784,\n",
       "             '1966': 65424,\n",
       "             '1967': 57528,\n",
       "             '1968': 56400,\n",
       "             '1969': 48504,\n",
       "             '1970': 62040,\n",
       "             '1971': 68808,\n",
       "             '1972': 73320,\n",
       "             '1973': 68808,\n",
       "             '1974': 62040,\n",
       "             '1975': 60912,\n",
       "             '1976': 67680,\n",
       "             '1977': 78960,\n",
       "             '1978': 76704,\n",
       "             '1979': 81216,\n",
       "             '1980': 139872,\n",
       "             '1981': 143256,\n",
       "             '1982': 131976,\n",
       "             '1983': 111672,\n",
       "             '1984': 133104,\n",
       "             '1985': 151152,\n",
       "             '1986': 166944,\n",
       "             '1987': 205296,\n",
       "             '1988': 215448,\n",
       "             '1989': 214320,\n",
       "             '1990': 194016,\n",
       "             '1991': 182736,\n",
       "             '1992': 201912,\n",
       "             '1993': 245904,\n",
       "             '1994': 311328,\n",
       "             '1995': 344040,\n",
       "             '1996': 363216,\n",
       "             '1997': 360960,\n",
       "             '1998': 357576,\n",
       "             '1999': 329376,\n",
       "             '2000': 373368,\n",
       "             '2001': 355320,\n",
       "             '2002': 372240,\n",
       "             '2003': 342912,\n",
       "             '2004': 341784,\n",
       "             '2005': 320352,\n",
       "             '2006': 353064,\n",
       "             '2007': 346296,\n",
       "             '2008': 351936,\n",
       "             '2009': 358704,\n",
       "             '2010': 296664,\n",
       "             '2011': 266208,\n",
       "             '2012': 261696,\n",
       "             '2013': 307944,\n",
       "             '2014': 286512,\n",
       "             '2015': 62040})"
      ]
     },
     "execution_count": 95,
     "metadata": {},
     "output_type": "execute_result"
    }
   ],
   "source": [
    "x = []\n",
    "for i in range(len(yr)):\n",
    "    if(yr[i]==\"lon 5\"):\n",
    "        yr[i] = \"1994\"\n",
    "word_counts = defaultdict(int)\n",
    "for word in yr:\n",
    "    word_counts[word] += 1\n",
    "word_counts"
   ]
  },
  {
   "cell_type": "code",
   "execution_count": 96,
   "metadata": {},
   "outputs": [
    {
     "data": {
      "text/plain": [
       "11709768"
      ]
     },
     "execution_count": 96,
     "metadata": {},
     "output_type": "execute_result"
    }
   ],
   "source": [
    "yr= [int(i) for i in yr]\n",
    "len(yr)"
   ]
  },
  {
   "cell_type": "code",
   "execution_count": 98,
   "metadata": {
    "scrolled": true
   },
   "outputs": [
    {
     "data": {
      "text/html": [
       "<div>\n",
       "<table border=\"1\" class=\"dataframe\">\n",
       "  <thead>\n",
       "    <tr style=\"text-align: right;\">\n",
       "      <th></th>\n",
       "      <th>movieId</th>\n",
       "      <th>tagId</th>\n",
       "      <th>relevance</th>\n",
       "      <th>title</th>\n",
       "      <th>genres</th>\n",
       "      <th>release</th>\n",
       "    </tr>\n",
       "  </thead>\n",
       "  <tbody>\n",
       "    <tr>\n",
       "      <th>0</th>\n",
       "      <td>1</td>\n",
       "      <td>1</td>\n",
       "      <td>0.02500</td>\n",
       "      <td>Toy Story (1995)</td>\n",
       "      <td>Adventure|Animation|Children|Comedy|Fantasy</td>\n",
       "      <td>1995</td>\n",
       "    </tr>\n",
       "    <tr>\n",
       "      <th>1</th>\n",
       "      <td>1</td>\n",
       "      <td>2</td>\n",
       "      <td>0.02500</td>\n",
       "      <td>Toy Story (1995)</td>\n",
       "      <td>Adventure|Animation|Children|Comedy|Fantasy</td>\n",
       "      <td>1995</td>\n",
       "    </tr>\n",
       "    <tr>\n",
       "      <th>2</th>\n",
       "      <td>1</td>\n",
       "      <td>3</td>\n",
       "      <td>0.05775</td>\n",
       "      <td>Toy Story (1995)</td>\n",
       "      <td>Adventure|Animation|Children|Comedy|Fantasy</td>\n",
       "      <td>1995</td>\n",
       "    </tr>\n",
       "    <tr>\n",
       "      <th>3</th>\n",
       "      <td>1</td>\n",
       "      <td>4</td>\n",
       "      <td>0.09675</td>\n",
       "      <td>Toy Story (1995)</td>\n",
       "      <td>Adventure|Animation|Children|Comedy|Fantasy</td>\n",
       "      <td>1995</td>\n",
       "    </tr>\n",
       "    <tr>\n",
       "      <th>4</th>\n",
       "      <td>1</td>\n",
       "      <td>5</td>\n",
       "      <td>0.14675</td>\n",
       "      <td>Toy Story (1995)</td>\n",
       "      <td>Adventure|Animation|Children|Comedy|Fantasy</td>\n",
       "      <td>1995</td>\n",
       "    </tr>\n",
       "  </tbody>\n",
       "</table>\n",
       "</div>"
      ],
      "text/plain": [
       "   movieId  tagId  relevance             title  \\\n",
       "0        1      1    0.02500  Toy Story (1995)   \n",
       "1        1      2    0.02500  Toy Story (1995)   \n",
       "2        1      3    0.05775  Toy Story (1995)   \n",
       "3        1      4    0.09675  Toy Story (1995)   \n",
       "4        1      5    0.14675  Toy Story (1995)   \n",
       "\n",
       "                                        genres  release  \n",
       "0  Adventure|Animation|Children|Comedy|Fantasy     1995  \n",
       "1  Adventure|Animation|Children|Comedy|Fantasy     1995  \n",
       "2  Adventure|Animation|Children|Comedy|Fantasy     1995  \n",
       "3  Adventure|Animation|Children|Comedy|Fantasy     1995  \n",
       "4  Adventure|Animation|Children|Comedy|Fantasy     1995  "
      ]
     },
     "execution_count": 98,
     "metadata": {},
     "output_type": "execute_result"
    }
   ],
   "source": [
    "one[\"release\"] = yr\n",
    "one.head()"
   ]
  },
  {
   "cell_type": "code",
   "execution_count": 100,
   "metadata": {
    "collapsed": true
   },
   "outputs": [],
   "source": [
    "one.to_csv(\"/media/radial/Work/Work/Work on datasets/movielens-20m-dataset*/one.csv\")"
   ]
  },
  {
   "cell_type": "code",
   "execution_count": 101,
   "metadata": {},
   "outputs": [
    {
     "ename": "MemoryError",
     "evalue": "",
     "output_type": "error",
     "traceback": [
      "\u001b[0;31m---------------------------------------------------------------------------\u001b[0m",
      "\u001b[0;31mMemoryError\u001b[0m                               Traceback (most recent call last)",
      "\u001b[0;32m<ipython-input-101-3e734cf10258>\u001b[0m in \u001b[0;36m<module>\u001b[0;34m()\u001b[0m\n\u001b[1;32m      1\u001b[0m \u001b[0mone\u001b[0m \u001b[0;34m=\u001b[0m \u001b[0mpd\u001b[0m\u001b[0;34m.\u001b[0m\u001b[0mread_csv\u001b[0m\u001b[0;34m(\u001b[0m\u001b[0;34m\"/media/radial/Work/Work/Work on datasets/movielens-20m-dataset*/one.csv\"\u001b[0m\u001b[0;34m)\u001b[0m\u001b[0;34m\u001b[0m\u001b[0m\n\u001b[0;32m----> 2\u001b[0;31m \u001b[0mtwo\u001b[0m \u001b[0;34m=\u001b[0m \u001b[0mpd\u001b[0m\u001b[0;34m.\u001b[0m\u001b[0mmerge\u001b[0m\u001b[0;34m(\u001b[0m\u001b[0mone\u001b[0m\u001b[0;34m,\u001b[0m\u001b[0mrating\u001b[0m\u001b[0;34m,\u001b[0m\u001b[0mon\u001b[0m \u001b[0;34m=\u001b[0m \u001b[0;34m[\u001b[0m\u001b[0;34m\"movieId\"\u001b[0m\u001b[0;34m]\u001b[0m\u001b[0;34m)\u001b[0m\u001b[0;34m\u001b[0m\u001b[0m\n\u001b[0m\u001b[1;32m      3\u001b[0m \u001b[0mtwo\u001b[0m\u001b[0;34m.\u001b[0m\u001b[0mhead\u001b[0m\u001b[0;34m(\u001b[0m\u001b[0;34m)\u001b[0m\u001b[0;34m\u001b[0m\u001b[0m\n",
      "\u001b[0;32m/home/radial/.local/lib/python3.5/site-packages/pandas/tools/merge.py\u001b[0m in \u001b[0;36mmerge\u001b[0;34m(left, right, how, on, left_on, right_on, left_index, right_index, sort, suffixes, copy, indicator)\u001b[0m\n\u001b[1;32m     60\u001b[0m                          \u001b[0mright_index\u001b[0m\u001b[0;34m=\u001b[0m\u001b[0mright_index\u001b[0m\u001b[0;34m,\u001b[0m \u001b[0msort\u001b[0m\u001b[0;34m=\u001b[0m\u001b[0msort\u001b[0m\u001b[0;34m,\u001b[0m \u001b[0msuffixes\u001b[0m\u001b[0;34m=\u001b[0m\u001b[0msuffixes\u001b[0m\u001b[0;34m,\u001b[0m\u001b[0;34m\u001b[0m\u001b[0m\n\u001b[1;32m     61\u001b[0m                          copy=copy, indicator=indicator)\n\u001b[0;32m---> 62\u001b[0;31m     \u001b[0;32mreturn\u001b[0m \u001b[0mop\u001b[0m\u001b[0;34m.\u001b[0m\u001b[0mget_result\u001b[0m\u001b[0;34m(\u001b[0m\u001b[0;34m)\u001b[0m\u001b[0;34m\u001b[0m\u001b[0m\n\u001b[0m\u001b[1;32m     63\u001b[0m \u001b[0;32mif\u001b[0m \u001b[0m__debug__\u001b[0m\u001b[0;34m:\u001b[0m\u001b[0;34m\u001b[0m\u001b[0m\n\u001b[1;32m     64\u001b[0m     \u001b[0mmerge\u001b[0m\u001b[0;34m.\u001b[0m\u001b[0m__doc__\u001b[0m \u001b[0;34m=\u001b[0m \u001b[0m_merge_doc\u001b[0m \u001b[0;34m%\u001b[0m \u001b[0;34m'\\nleft : DataFrame'\u001b[0m\u001b[0;34m\u001b[0m\u001b[0m\n",
      "\u001b[0;32m/home/radial/.local/lib/python3.5/site-packages/pandas/tools/merge.py\u001b[0m in \u001b[0;36mget_result\u001b[0;34m(self)\u001b[0m\n\u001b[1;32m    548\u001b[0m                 self.left, self.right)\n\u001b[1;32m    549\u001b[0m \u001b[0;34m\u001b[0m\u001b[0m\n\u001b[0;32m--> 550\u001b[0;31m         \u001b[0mjoin_index\u001b[0m\u001b[0;34m,\u001b[0m \u001b[0mleft_indexer\u001b[0m\u001b[0;34m,\u001b[0m \u001b[0mright_indexer\u001b[0m \u001b[0;34m=\u001b[0m \u001b[0mself\u001b[0m\u001b[0;34m.\u001b[0m\u001b[0m_get_join_info\u001b[0m\u001b[0;34m(\u001b[0m\u001b[0;34m)\u001b[0m\u001b[0;34m\u001b[0m\u001b[0m\n\u001b[0m\u001b[1;32m    551\u001b[0m \u001b[0;34m\u001b[0m\u001b[0m\n\u001b[1;32m    552\u001b[0m         \u001b[0mldata\u001b[0m\u001b[0;34m,\u001b[0m \u001b[0mrdata\u001b[0m \u001b[0;34m=\u001b[0m \u001b[0mself\u001b[0m\u001b[0;34m.\u001b[0m\u001b[0mleft\u001b[0m\u001b[0;34m.\u001b[0m\u001b[0m_data\u001b[0m\u001b[0;34m,\u001b[0m \u001b[0mself\u001b[0m\u001b[0;34m.\u001b[0m\u001b[0mright\u001b[0m\u001b[0;34m.\u001b[0m\u001b[0m_data\u001b[0m\u001b[0;34m\u001b[0m\u001b[0m\n",
      "\u001b[0;32m/home/radial/.local/lib/python3.5/site-packages/pandas/tools/merge.py\u001b[0m in \u001b[0;36m_get_join_info\u001b[0;34m(self)\u001b[0m\n\u001b[1;32m    712\u001b[0m         \u001b[0;32melse\u001b[0m\u001b[0;34m:\u001b[0m\u001b[0;34m\u001b[0m\u001b[0m\n\u001b[1;32m    713\u001b[0m             (left_indexer,\n\u001b[0;32m--> 714\u001b[0;31m              right_indexer) = self._get_join_indexers()\n\u001b[0m\u001b[1;32m    715\u001b[0m \u001b[0;34m\u001b[0m\u001b[0m\n\u001b[1;32m    716\u001b[0m             \u001b[0;32mif\u001b[0m \u001b[0mself\u001b[0m\u001b[0;34m.\u001b[0m\u001b[0mright_index\u001b[0m\u001b[0;34m:\u001b[0m\u001b[0;34m\u001b[0m\u001b[0m\n",
      "\u001b[0;32m/home/radial/.local/lib/python3.5/site-packages/pandas/tools/merge.py\u001b[0m in \u001b[0;36m_get_join_indexers\u001b[0;34m(self)\u001b[0m\n\u001b[1;32m    692\u001b[0m                                   \u001b[0mself\u001b[0m\u001b[0;34m.\u001b[0m\u001b[0mright_join_keys\u001b[0m\u001b[0;34m,\u001b[0m\u001b[0;34m\u001b[0m\u001b[0m\n\u001b[1;32m    693\u001b[0m                                   \u001b[0msort\u001b[0m\u001b[0;34m=\u001b[0m\u001b[0mself\u001b[0m\u001b[0;34m.\u001b[0m\u001b[0msort\u001b[0m\u001b[0;34m,\u001b[0m\u001b[0;34m\u001b[0m\u001b[0m\n\u001b[0;32m--> 694\u001b[0;31m                                   how=self.how)\n\u001b[0m\u001b[1;32m    695\u001b[0m \u001b[0;34m\u001b[0m\u001b[0m\n\u001b[1;32m    696\u001b[0m     \u001b[0;32mdef\u001b[0m \u001b[0m_get_join_info\u001b[0m\u001b[0;34m(\u001b[0m\u001b[0mself\u001b[0m\u001b[0;34m)\u001b[0m\u001b[0;34m:\u001b[0m\u001b[0;34m\u001b[0m\u001b[0m\n",
      "\u001b[0;32m/home/radial/.local/lib/python3.5/site-packages/pandas/tools/merge.py\u001b[0m in \u001b[0;36m_get_join_indexers\u001b[0;34m(left_keys, right_keys, sort, how, **kwargs)\u001b[0m\n\u001b[1;32m    945\u001b[0m     \u001b[0mjoin_func\u001b[0m \u001b[0;34m=\u001b[0m \u001b[0m_join_functions\u001b[0m\u001b[0;34m[\u001b[0m\u001b[0mhow\u001b[0m\u001b[0;34m]\u001b[0m\u001b[0;34m\u001b[0m\u001b[0m\n\u001b[1;32m    946\u001b[0m \u001b[0;34m\u001b[0m\u001b[0m\n\u001b[0;32m--> 947\u001b[0;31m     \u001b[0;32mreturn\u001b[0m \u001b[0mjoin_func\u001b[0m\u001b[0;34m(\u001b[0m\u001b[0mlkey\u001b[0m\u001b[0;34m,\u001b[0m \u001b[0mrkey\u001b[0m\u001b[0;34m,\u001b[0m \u001b[0mcount\u001b[0m\u001b[0;34m,\u001b[0m \u001b[0;34m**\u001b[0m\u001b[0mkwargs\u001b[0m\u001b[0;34m)\u001b[0m\u001b[0;34m\u001b[0m\u001b[0m\n\u001b[0m\u001b[1;32m    948\u001b[0m \u001b[0;34m\u001b[0m\u001b[0m\n\u001b[1;32m    949\u001b[0m \u001b[0;34m\u001b[0m\u001b[0m\n",
      "\u001b[0;32mpandas/src/join.pyx\u001b[0m in \u001b[0;36mpandas._join.inner_join (pandas/src/join.c:29029)\u001b[0;34m()\u001b[0m\n",
      "\u001b[0;31mMemoryError\u001b[0m: "
     ]
    }
   ],
   "source": [
    "one = pd.read_csv(\"/media/radial/Work/Work/Work on datasets/movielens-20m-dataset*/one.csv\")\n",
    "two = pd.merge(one,rating,on = [\"movieId\"])\n",
    "two.head()"
   ]
  },
  {
   "cell_type": "code",
   "execution_count": null,
   "metadata": {
    "collapsed": true
   },
   "outputs": [],
   "source": []
  }
 ],
 "metadata": {
  "kernelspec": {
   "display_name": "Python 3",
   "language": "python",
   "name": "python3"
  },
  "language_info": {
   "codemirror_mode": {
    "name": "ipython",
    "version": 3
   },
   "file_extension": ".py",
   "mimetype": "text/x-python",
   "name": "python",
   "nbconvert_exporter": "python",
   "pygments_lexer": "ipython3",
   "version": "3.5.0"
  }
 },
 "nbformat": 4,
 "nbformat_minor": 2
}
